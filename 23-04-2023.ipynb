{
 "cells": [
  {
   "cell_type": "code",
   "execution_count": 1,
   "metadata": {},
   "outputs": [
    {
     "name": "stdout",
     "output_type": "stream",
     "text": [
      "Hello\n"
     ]
    }
   ],
   "source": [
    "print(\"Hello\")"
   ]
  },
  {
   "cell_type": "code",
   "execution_count": 2,
   "metadata": {},
   "outputs": [
    {
     "name": "stdout",
     "output_type": "stream",
     "text": [
      "Parent class method\n",
      "Child class method\n"
     ]
    }
   ],
   "source": [
    "## Inheritance \n",
    "\n",
    "class P:\n",
    "    def m1(self):\n",
    "        print(\"Parent class method\")\n",
    "class C(P):\n",
    "    def m2(self):\n",
    "        print(\"Child class method\")\n",
    "\n",
    "c = C()\n",
    "c.m1()\n",
    "c.m2() "
   ]
  },
  {
   "cell_type": "code",
   "execution_count": 5,
   "metadata": {},
   "outputs": [
    {
     "name": "stdout",
     "output_type": "stream",
     "text": [
      "Parent constructor\n",
      "10\n",
      "20\n"
     ]
    }
   ],
   "source": [
    "class P:\n",
    "    a = 10\n",
    "    def __init__(self):\n",
    "        print(\"Parent constructor\")\n",
    "        self.b = 20\n",
    "    def m1(self):\n",
    "        print(\"Parent instance method\")\n",
    "    @classmethod\n",
    "    def m2(cls):\n",
    "        print('Parent class method')\n",
    "    @staticmethod\n",
    "    def m3():\n",
    "        print('Parent static method')\n",
    "\n",
    "class C(P):\n",
    "    pass\n",
    "\n",
    "c = C()\n",
    "\n",
    "print(c.a)\n",
    "\n",
    "print(c.b)"
   ]
  },
  {
   "cell_type": "code",
   "execution_count": 6,
   "metadata": {},
   "outputs": [
    {
     "name": "stdout",
     "output_type": "stream",
     "text": [
      "Parent constructor\n",
      "10\n",
      "20\n",
      "Parent instance method\n",
      "Parent class method\n",
      "Parent static method\n"
     ]
    }
   ],
   "source": [
    "class P:\n",
    "    a = 10\n",
    "    def __init__(self):\n",
    "        print(\"Parent constructor\")\n",
    "        self.b = 20\n",
    "    def m1(self):\n",
    "        print(\"Parent instance method\")\n",
    "    @classmethod\n",
    "    def m2(cls):\n",
    "        print('Parent class method')\n",
    "    @staticmethod\n",
    "    def m3():\n",
    "        print('Parent static method')\n",
    "\n",
    "class C(P):\n",
    "    pass\n",
    "\n",
    "c = C()\n",
    "\n",
    "print(c.a)\n",
    "\n",
    "print(c.b)\n",
    "\n",
    "c.m1()\n",
    "\n",
    "c.m2()\n",
    "\n",
    "c.m3()"
   ]
  },
  {
   "cell_type": "code",
   "execution_count": 12,
   "metadata": {},
   "outputs": [],
   "source": [
    "class Person:\n",
    "    def __init__(self,name,age):\n",
    "        self.name = name\n",
    "        self.age = age\n",
    "    def eatndrink(self):\n",
    "        print(\"Eat biriyani and Drink beer\")\n",
    "\n",
    "class Employee(Person):\n",
    "    def __init__(self,name,age,eno,esal):\n",
    "        self.name = name\n",
    "        self.age = age\n",
    "        self.eno = eno\n",
    "        self.esal = esal\n",
    "    def work(self):\n",
    "        print(\"Coding python programm\")\n",
    "    \n",
    "    def empInfo(self):\n",
    "        print('Employee Name:',self.name)\n",
    "        print(\"Employee Age: \",self.age)\n",
    "        print(\"Employee Number:\",self.eno)\n",
    "        print(\"Employee Salary:\",self.esal)"
   ]
  },
  {
   "cell_type": "code",
   "execution_count": 13,
   "metadata": {},
   "outputs": [
    {
     "name": "stdout",
     "output_type": "stream",
     "text": [
      "Eat biriyani and Drink beer\n",
      "Coding python programm\n",
      "Employee Name: Durga\n",
      "Employee Age:  48\n",
      "Employee Number: 872425\n",
      "Employee Salary: 10000\n"
     ]
    }
   ],
   "source": [
    "e = Employee(\"Durga\",48,872425,10000)\n",
    "e.eatndrink()\n",
    "e.work()\n",
    "e.empInfo()"
   ]
  },
  {
   "cell_type": "code",
   "execution_count": 14,
   "metadata": {},
   "outputs": [],
   "source": [
    "class Person:\n",
    "    def __init__(self,name,age):\n",
    "        self.name = name\n",
    "        self.age = age\n",
    "    def eatndrink(self):\n",
    "        print(\"Eat biriyani and Drink beer\")\n",
    "\n",
    "class Employee(Person):\n",
    "    def __init__(self,name,age,eno,esal):\n",
    "        super().__init__(name,age)\n",
    "        self.eno = eno\n",
    "        self.esal = esal\n",
    "    def work(self):\n",
    "        print(\"Coding python programm\")\n",
    "    \n",
    "    def empInfo(self):\n",
    "        print('Employee Name:',self.name)\n",
    "        print(\"Employee Age: \",self.age)\n",
    "        print(\"Employee Number:\",self.eno)\n",
    "        print(\"Employee Salary:\",self.esal)"
   ]
  },
  {
   "cell_type": "code",
   "execution_count": 15,
   "metadata": {},
   "outputs": [
    {
     "name": "stdout",
     "output_type": "stream",
     "text": [
      "Eat biriyani and Drink beer\n",
      "Coding python programm\n",
      "Employee Name: Durga\n",
      "Employee Age:  48\n",
      "Employee Number: 872425\n",
      "Employee Salary: 10000\n"
     ]
    }
   ],
   "source": [
    "e = Employee(\"Durga\",48,872425,10000)\n",
    "e.eatndrink()\n",
    "e.work()\n",
    "e.empInfo()"
   ]
  },
  {
   "cell_type": "code",
   "execution_count": 16,
   "metadata": {},
   "outputs": [
    {
     "name": "stdout",
     "output_type": "stream",
     "text": [
      "Eating biriyani driniking beer\n",
      "Coding python program\n",
      "Employee Age: Durga\n",
      "Employee Age: 48\n",
      "Employee salary: 10000\n",
      "Employee Number: 872425\n",
      "Employee car information:\n",
      "\t Car Name: Innova \n",
      " \t Model:2.5v \n",
      " \t  Color: Grey\n"
     ]
    }
   ],
   "source": [
    "class Car:\n",
    "    def __init__(self,name,model,color):\n",
    "        self.name = name\n",
    "        self.model = model\n",
    "        self.color = color\n",
    "\n",
    "    def getInfo(self):\n",
    "        print(\"\\t Car Name: {} \\n \\t Model:{} \\n \\t  Color: {}\".format(self.name,self.model,self.color))\n",
    "\n",
    "\n",
    "class Person:\n",
    "    def __init__(self,name,age):\n",
    "        self.name = name\n",
    "        self.age = age\n",
    "    \n",
    "    def eatndrink(self):\n",
    "        print(\"Eating biriyani driniking beer\")\n",
    "\n",
    "class Employee(Person):\n",
    "    def __init__(self, name, age,eno,esal,car):\n",
    "        super().__init__(name, age)\n",
    "        self.eno = eno\n",
    "        self.esal = esal\n",
    "        self.car = car\n",
    "    def work(self):\n",
    "        print(\"Coding python program\")\n",
    "    def empInfo(self):\n",
    "        print(\"Employee Age:\",self.name)\n",
    "        print(\"Employee Age:\",self.age)\n",
    "        print(\"Employee salary:\",self.esal)\n",
    "        print(\"Employee Number:\",self.eno)\n",
    "        print(\"Employee car information:\")\n",
    "        self.car.getInfo()\n",
    "\n",
    "car = Car(\"Innova\",\"2.5v\",\"Grey\")\n",
    "\n",
    "e = Employee(\"Durga\",48,872425,10000,car)\n",
    "\n",
    "e.eatndrink()\n",
    "\n",
    "e.work()\n",
    "\n",
    "e.empInfo()\n"
   ]
  },
  {
   "cell_type": "code",
   "execution_count": 18,
   "metadata": {},
   "outputs": [
    {
     "name": "stdout",
     "output_type": "stream",
     "text": [
      "Parent method\n",
      "Child method\n"
     ]
    }
   ],
   "source": [
    "# single inheritance\n",
    "\n",
    "class P:\n",
    "    def m1(self):\n",
    "        print(\"Parent method\")\n",
    "\n",
    "class C(P):\n",
    "    def m2(self):\n",
    "        print(\"Child method\")\n",
    "\n",
    "c = C()\n",
    "c.m1()\n",
    "c.m2()"
   ]
  },
  {
   "cell_type": "code",
   "execution_count": 19,
   "metadata": {},
   "outputs": [
    {
     "name": "stdout",
     "output_type": "stream",
     "text": [
      "Parent method\n",
      "Child method\n",
      "sub child method\n"
     ]
    }
   ],
   "source": [
    " # Multi level inheritance\n",
    "class P:\n",
    "    def m1(self):\n",
    "        print(\"Parent method\")\n",
    "\n",
    "class C(P):\n",
    "    def m2(self):\n",
    "        print(\"Child method\")\n",
    "\n",
    "class CC(C):\n",
    "    def m3(self):\n",
    "        print(\"sub child method\")\n",
    "\n",
    "c = CC()\n",
    "c.m1()\n",
    "c.m2()\n",
    "c.m3()"
   ]
  },
  {
   "cell_type": "code",
   "execution_count": 21,
   "metadata": {},
   "outputs": [],
   "source": [
    "# Hierarchical Inheritance\n",
    "\n",
    "class P:\n",
    "    def m1(self):\n",
    "        print(\"Parent method\")\n",
    "\n",
    "class C1(P):\n",
    "    def m2(self):\n",
    "        print(\"Child1 method\")\n",
    "\n",
    "class C2(P):\n",
    "    def m3(self):\n",
    "        print(\"Child2 method\")"
   ]
  },
  {
   "cell_type": "code",
   "execution_count": 23,
   "metadata": {},
   "outputs": [
    {
     "name": "stdout",
     "output_type": "stream",
     "text": [
      "Parent method\n",
      "Child1 method\n"
     ]
    }
   ],
   "source": [
    "c1 = C1()\n",
    "c1.m1()\n",
    "c1.m2()"
   ]
  },
  {
   "cell_type": "code",
   "execution_count": null,
   "metadata": {},
   "outputs": [],
   "source": []
  }
 ],
 "metadata": {
  "kernelspec": {
   "display_name": "Python 3",
   "language": "python",
   "name": "python3"
  },
  "language_info": {
   "codemirror_mode": {
    "name": "ipython",
    "version": 3
   },
   "file_extension": ".py",
   "mimetype": "text/x-python",
   "name": "python",
   "nbconvert_exporter": "python",
   "pygments_lexer": "ipython3",
   "version": "3.7.0"
  },
  "orig_nbformat": 4
 },
 "nbformat": 4,
 "nbformat_minor": 2
}
