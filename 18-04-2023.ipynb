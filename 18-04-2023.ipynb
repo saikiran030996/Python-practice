{
 "cells": [
  {
   "cell_type": "code",
   "execution_count": 1,
   "metadata": {},
   "outputs": [],
   "source": [
    "class Student:\n",
    "    def __init__(self,name,marks):\n",
    "        self.name = name\n",
    "        self.marks = marks\n",
    "    \n",
    "    def display(self):\n",
    "        print(\"Hi\",self.name)\n",
    "        print(\"Marks are:\",self.marks)"
   ]
  },
  {
   "cell_type": "code",
   "execution_count": 2,
   "metadata": {},
   "outputs": [
    {
     "ename": "NameError",
     "evalue": "name 'named' is not defined",
     "output_type": "error",
     "traceback": [
      "\u001b[1;31m---------------------------------------------------------------------------\u001b[0m",
      "\u001b[1;31mNameError\u001b[0m                                 Traceback (most recent call last)",
      "Cell \u001b[1;32mIn[2], line 24\u001b[0m\n\u001b[0;32m     22\u001b[0m name \u001b[39m=\u001b[39m \u001b[39minput\u001b[39m(\u001b[39m\"\u001b[39m\u001b[39mEnter student name: \u001b[39m\u001b[39m\"\u001b[39m)\n\u001b[0;32m     23\u001b[0m marks \u001b[39m=\u001b[39m \u001b[39mint\u001b[39m(\u001b[39minput\u001b[39m(\u001b[39m\"\u001b[39m\u001b[39mEnter marks: \u001b[39m\u001b[39m\"\u001b[39m))\n\u001b[1;32m---> 24\u001b[0m s \u001b[39m=\u001b[39m Student(named,marks)\n\u001b[0;32m     25\u001b[0m s\u001b[39m.\u001b[39mdisplay()\n\u001b[0;32m     26\u001b[0m s\u001b[39m.\u001b[39mgrade()\n",
      "\u001b[1;31mNameError\u001b[0m: name 'named' is not defined"
     ]
    }
   ],
   "source": [
    "class Student:\n",
    "    def __init__(self,name,marks):\n",
    "        self.name = name\n",
    "        self.marks = marks\n",
    "    \n",
    "    def display(self):\n",
    "        print(\"Hi\",self.name)\n",
    "        print(\"Marks are:\",self.marks)\n",
    "    def grade(self):\n",
    "        if self.marks >= 60:\n",
    "            print(\"Your got First Grade\")\n",
    "        elif self.marks >= 50:\n",
    "            print(\"You got Second Grade\")\n",
    "        elif self.marks >= 35:\n",
    "            print(\"You got Third Grade\")\n",
    "        else:\n",
    "            print(\"You are Failed\")\n",
    "\n",
    "n = int(input(\"Enter No. of students: \"))\n",
    "\n",
    "for i in range(n):\n",
    "    name = input(\"Enter student name: \")\n",
    "    marks = int(input(\"Enter marks: \"))\n",
    "    s = Student(name,marks)\n",
    "    s.display()\n",
    "    s.grade()\n",
    "    print()"
   ]
  },
  {
   "cell_type": "code",
   "execution_count": 3,
   "metadata": {},
   "outputs": [
    {
     "name": "stdout",
     "output_type": "stream",
     "text": [
      "Hi saikiran\n",
      "Marks are: 90\n",
      "Your got First Grade\n",
      "\n",
      "Hi saiteja\n",
      "Marks are: 85\n",
      "Your got First Grade\n",
      "\n"
     ]
    }
   ],
   "source": [
    "class Student:\n",
    "    def __init__(self,name,marks):\n",
    "        self.name = name\n",
    "        self.marks = marks\n",
    "    \n",
    "    def display(self):\n",
    "        print(\"Hi\",self.name)\n",
    "        print(\"Marks are:\",self.marks)\n",
    "    def grade(self):\n",
    "        if self.marks >= 60:\n",
    "            print(\"Your got First Grade\")\n",
    "        elif self.marks >= 50:\n",
    "            print(\"You got Second Grade\")\n",
    "        elif self.marks >= 35:\n",
    "            print(\"You got Third Grade\")\n",
    "        else:\n",
    "            print(\"You are Failed\")\n",
    "\n",
    "n = int(input(\"Enter No. of students: \"))\n",
    "\n",
    "for i in range(n):\n",
    "    name = input(\"Enter student name: \")\n",
    "    marks = int(input(\"Enter marks: \"))\n",
    "    s = Student(name,marks)\n",
    "    s.display()\n",
    "    s.grade()\n",
    "    print()"
   ]
  },
  {
   "cell_type": "code",
   "execution_count": 4,
   "metadata": {},
   "outputs": [
    {
     "ename": "AttributeError",
     "evalue": "'list' object has no attribute 'appned'",
     "output_type": "error",
     "traceback": [
      "\u001b[1;31m---------------------------------------------------------------------------\u001b[0m",
      "\u001b[1;31mAttributeError\u001b[0m                            Traceback (most recent call last)",
      "Cell \u001b[1;32mIn[4], line 24\u001b[0m\n\u001b[0;32m     22\u001b[0m     s\u001b[39m.\u001b[39msetName(name)\n\u001b[0;32m     23\u001b[0m     s\u001b[39m.\u001b[39msetMarks(marks)\n\u001b[1;32m---> 24\u001b[0m     students\u001b[39m.\u001b[39;49mappned(s)\n\u001b[0;32m     26\u001b[0m \u001b[39mfor\u001b[39;00m s \u001b[39min\u001b[39;00m students:\n\u001b[0;32m     27\u001b[0m     \u001b[39mprint\u001b[39m(\u001b[39m\"\u001b[39m\u001b[39mHello:\u001b[39m\u001b[39m\"\u001b[39m,s\u001b[39m.\u001b[39mgetName())\n",
      "\u001b[1;31mAttributeError\u001b[0m: 'list' object has no attribute 'appned'"
     ]
    }
   ],
   "source": [
    "class Student:\n",
    "    def setName(self,name):\n",
    "        self.name = name\n",
    "\n",
    "    def getName(self):\n",
    "        return self.name\n",
    "    \n",
    "    def setMarks(self,marks):\n",
    "        self.marks = marks\n",
    "    \n",
    "    def getMarks(self):\n",
    "        return self.marks\n",
    "    \n",
    "n = int(input(\"Enter no. of students: \"))\n",
    "\n",
    "students = []\n",
    "\n",
    "for i in range(n):\n",
    "    s = Student()\n",
    "    name = input(\"Enter student name: \")\n",
    "    marks = int(input(\"Enter marks: \"))\n",
    "    s.setName(name)\n",
    "    s.setMarks(marks)\n",
    "    students.append(s)\n",
    "\n",
    "for s in students:\n",
    "    print(\"Hello:\",s.getName())\n",
    "    print(\"Your marks are:\",s.getMarks())\n",
    "    print()\n"
   ]
  },
  {
   "cell_type": "code",
   "execution_count": 5,
   "metadata": {},
   "outputs": [
    {
     "name": "stdout",
     "output_type": "stream",
     "text": [
      "Hello: saikiran\n",
      "Your marks are: 95\n",
      "\n",
      "Hello: sai\n",
      "Your marks are: 90\n",
      "\n"
     ]
    }
   ],
   "source": [
    "class Student:\n",
    "    def setName(self,name):\n",
    "        self.name = name\n",
    "\n",
    "    def getName(self):\n",
    "        return self.name\n",
    "    \n",
    "    def setMarks(self,marks):\n",
    "        self.marks = marks\n",
    "    \n",
    "    def getMarks(self):\n",
    "        return self.marks\n",
    "    \n",
    "n = int(input(\"Enter no. of students: \"))\n",
    "\n",
    "students = []\n",
    "\n",
    "for i in range(n):\n",
    "    s = Student()\n",
    "    name = input(\"Enter student name: \")\n",
    "    marks = int(input(\"Enter marks: \"))\n",
    "    s.setName(name)\n",
    "    s.setMarks(marks)\n",
    "    students.append(s)\n",
    "\n",
    "for s in students:\n",
    "    print(\"Hello:\",s.getName())\n",
    "    print(\"Your marks are:\",s.getMarks())\n",
    "    print()\n"
   ]
  },
  {
   "cell_type": "code",
   "execution_count": null,
   "metadata": {},
   "outputs": [],
   "source": []
  }
 ],
 "metadata": {
  "kernelspec": {
   "display_name": "Python 3",
   "language": "python",
   "name": "python3"
  },
  "language_info": {
   "codemirror_mode": {
    "name": "ipython",
    "version": 3
   },
   "file_extension": ".py",
   "mimetype": "text/x-python",
   "name": "python",
   "nbconvert_exporter": "python",
   "pygments_lexer": "ipython3",
   "version": "3.11.0"
  },
  "orig_nbformat": 4
 },
 "nbformat": 4,
 "nbformat_minor": 2
}
