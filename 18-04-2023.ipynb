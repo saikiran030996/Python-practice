{
 "cells": [
  {
   "cell_type": "code",
   "execution_count": 1,
   "metadata": {},
   "outputs": [],
   "source": [
    "class Student:\n",
    "    def __init__(self,name,marks):\n",
    "        self.name = name\n",
    "        self.marks = marks\n",
    "    \n",
    "    def display(self):\n",
    "        print(\"Hi\",self.name)\n",
    "        print(\"Marks are:\",self.marks)"
   ]
  },
  {
   "cell_type": "code",
   "execution_count": 2,
   "metadata": {},
   "outputs": [
    {
     "ename": "NameError",
     "evalue": "name 'named' is not defined",
     "output_type": "error",
     "traceback": [
      "\u001b[1;31m---------------------------------------------------------------------------\u001b[0m",
      "\u001b[1;31mNameError\u001b[0m                                 Traceback (most recent call last)",
      "Cell \u001b[1;32mIn[2], line 24\u001b[0m\n\u001b[0;32m     22\u001b[0m name \u001b[39m=\u001b[39m \u001b[39minput\u001b[39m(\u001b[39m\"\u001b[39m\u001b[39mEnter student name: \u001b[39m\u001b[39m\"\u001b[39m)\n\u001b[0;32m     23\u001b[0m marks \u001b[39m=\u001b[39m \u001b[39mint\u001b[39m(\u001b[39minput\u001b[39m(\u001b[39m\"\u001b[39m\u001b[39mEnter marks: \u001b[39m\u001b[39m\"\u001b[39m))\n\u001b[1;32m---> 24\u001b[0m s \u001b[39m=\u001b[39m Student(named,marks)\n\u001b[0;32m     25\u001b[0m s\u001b[39m.\u001b[39mdisplay()\n\u001b[0;32m     26\u001b[0m s\u001b[39m.\u001b[39mgrade()\n",
      "\u001b[1;31mNameError\u001b[0m: name 'named' is not defined"
     ]
    }
   ],
   "source": [
    "class Student:\n",
    "    def __init__(self,name,marks):\n",
    "        self.name = name\n",
    "        self.marks = marks\n",
    "    \n",
    "    def display(self):\n",
    "        print(\"Hi\",self.name)\n",
    "        print(\"Marks are:\",self.marks)\n",
    "    def grade(self):\n",
    "        if self.marks >= 60:\n",
    "            print(\"Your got First Grade\")\n",
    "        elif self.marks >= 50:\n",
    "            print(\"You got Second Grade\")\n",
    "        elif self.marks >= 35:\n",
    "            print(\"You got Third Grade\")\n",
    "        else:\n",
    "            print(\"You are Failed\")\n",
    "\n",
    "n = int(input(\"Enter No. of students: \"))\n",
    "\n",
    "for i in range(n):\n",
    "    name = input(\"Enter student name: \")\n",
    "    marks = int(input(\"Enter marks: \"))\n",
    "    s = Student(name,marks)\n",
    "    s.display()\n",
    "    s.grade()\n",
    "    print()"
   ]
  },
  {
   "cell_type": "code",
   "execution_count": 3,
   "metadata": {},
   "outputs": [
    {
     "name": "stdout",
     "output_type": "stream",
     "text": [
      "Hi saikiran\n",
      "Marks are: 90\n",
      "Your got First Grade\n",
      "\n",
      "Hi saiteja\n",
      "Marks are: 85\n",
      "Your got First Grade\n",
      "\n"
     ]
    }
   ],
   "source": [
    "class Student:\n",
    "    def __init__(self,name,marks):\n",
    "        self.name = name\n",
    "        self.marks = marks\n",
    "    \n",
    "    def display(self):\n",
    "        print(\"Hi\",self.name)\n",
    "        print(\"Marks are:\",self.marks)\n",
    "    def grade(self):\n",
    "        if self.marks >= 60:\n",
    "            print(\"Your got First Grade\")\n",
    "        elif self.marks >= 50:\n",
    "            print(\"You got Second Grade\")\n",
    "        elif self.marks >= 35:\n",
    "            print(\"You got Third Grade\")\n",
    "        else:\n",
    "            print(\"You are Failed\")\n",
    "\n",
    "n = int(input(\"Enter No. of students: \"))\n",
    "\n",
    "for i in range(n):\n",
    "    name = input(\"Enter student name: \")\n",
    "    marks = int(input(\"Enter marks: \"))\n",
    "    s = Student(name,marks)\n",
    "    s.display()\n",
    "    s.grade()\n",
    "    print()"
   ]
  },
  {
   "cell_type": "code",
   "execution_count": 4,
   "metadata": {},
   "outputs": [
    {
     "ename": "AttributeError",
     "evalue": "'list' object has no attribute 'appned'",
     "output_type": "error",
     "traceback": [
      "\u001b[1;31m---------------------------------------------------------------------------\u001b[0m",
      "\u001b[1;31mAttributeError\u001b[0m                            Traceback (most recent call last)",
      "Cell \u001b[1;32mIn[4], line 24\u001b[0m\n\u001b[0;32m     22\u001b[0m     s\u001b[39m.\u001b[39msetName(name)\n\u001b[0;32m     23\u001b[0m     s\u001b[39m.\u001b[39msetMarks(marks)\n\u001b[1;32m---> 24\u001b[0m     students\u001b[39m.\u001b[39;49mappned(s)\n\u001b[0;32m     26\u001b[0m \u001b[39mfor\u001b[39;00m s \u001b[39min\u001b[39;00m students:\n\u001b[0;32m     27\u001b[0m     \u001b[39mprint\u001b[39m(\u001b[39m\"\u001b[39m\u001b[39mHello:\u001b[39m\u001b[39m\"\u001b[39m,s\u001b[39m.\u001b[39mgetName())\n",
      "\u001b[1;31mAttributeError\u001b[0m: 'list' object has no attribute 'appned'"
     ]
    }
   ],
   "source": [
    "class Student:\n",
    "    def setName(self,name):\n",
    "        self.name = name\n",
    "\n",
    "    def getName(self):\n",
    "        return self.name\n",
    "    \n",
    "    def setMarks(self,marks):\n",
    "        self.marks = marks\n",
    "    \n",
    "    def getMarks(self):\n",
    "        return self.marks\n",
    "    \n",
    "n = int(input(\"Enter no. of students: \"))\n",
    "\n",
    "students = []\n",
    "\n",
    "for i in range(n):\n",
    "    s = Student()\n",
    "    name = input(\"Enter student name: \")\n",
    "    marks = int(input(\"Enter marks: \"))\n",
    "    s.setName(name)\n",
    "    s.setMarks(marks)\n",
    "    students.append(s)\n",
    "\n",
    "for s in students:\n",
    "    print(\"Hello:\",s.getName())\n",
    "    print(\"Your marks are:\",s.getMarks())\n",
    "    print()\n"
   ]
  },
  {
   "cell_type": "code",
   "execution_count": 5,
   "metadata": {},
   "outputs": [
    {
     "name": "stdout",
     "output_type": "stream",
     "text": [
      "Hello: saikiran\n",
      "Your marks are: 95\n",
      "\n",
      "Hello: sai\n",
      "Your marks are: 90\n",
      "\n"
     ]
    }
   ],
   "source": [
    "class Student:\n",
    "    def setName(self,name):\n",
    "        self.name = name\n",
    "\n",
    "    def getName(self):\n",
    "        return self.name\n",
    "    \n",
    "    def setMarks(self,marks):\n",
    "        self.marks = marks\n",
    "    \n",
    "    def getMarks(self):\n",
    "        return self.marks\n",
    "    \n",
    "n = int(input(\"Enter no. of students: \"))\n",
    "\n",
    "students = []\n",
    "\n",
    "for i in range(n):\n",
    "    s = Student()\n",
    "    name = input(\"Enter student name: \")\n",
    "    marks = int(input(\"Enter marks: \"))\n",
    "    s.setName(name)\n",
    "    s.setMarks(marks)\n",
    "    students.append(s)\n",
    "\n",
    "for s in students:\n",
    "    print(\"Hello:\",s.getName())\n",
    "    print(\"Your marks are:\",s.getMarks())\n",
    "    print()\n"
   ]
  },
  {
   "cell_type": "code",
   "execution_count": 6,
   "metadata": {},
   "outputs": [
    {
     "ename": "TypeError",
     "evalue": "Bird.fly() missing 1 required positional argument: 'name'",
     "output_type": "error",
     "traceback": [
      "\u001b[1;31m---------------------------------------------------------------------------\u001b[0m",
      "\u001b[1;31mTypeError\u001b[0m                                 Traceback (most recent call last)",
      "Cell \u001b[1;32mIn[6], line 7\u001b[0m\n\u001b[0;32m      4\u001b[0m     \u001b[39mdef\u001b[39;00m \u001b[39mfly\u001b[39m(\u001b[39mcls\u001b[39m,name):\n\u001b[0;32m      5\u001b[0m         \u001b[39mprint\u001b[39m(\u001b[39m\"\u001b[39m\u001b[39m{\u001b[39m\u001b[39m } flying with \u001b[39m\u001b[39m{\u001b[39m\u001b[39m } wings\u001b[39m\u001b[39m\"\u001b[39m\u001b[39m.\u001b[39mformat(name,\u001b[39mcls\u001b[39m\u001b[39m.\u001b[39mwings))\n\u001b[1;32m----> 7\u001b[0m Bird\u001b[39m.\u001b[39;49mfly(\u001b[39m\"\u001b[39;49m\u001b[39mParrot\u001b[39;49m\u001b[39m\"\u001b[39;49m)\n\u001b[0;32m      8\u001b[0m Bird\u001b[39m.\u001b[39mfly(\u001b[39m\"\u001b[39m\u001b[39mEagle\u001b[39m\u001b[39m\"\u001b[39m)\n",
      "\u001b[1;31mTypeError\u001b[0m: Bird.fly() missing 1 required positional argument: 'name'"
     ]
    }
   ],
   "source": [
    "class Bird:\n",
    "    wings = 2\n",
    "\n",
    "    def fly(cls,name):\n",
    "        print(\"{ } flying with { } wings\".format(name,cls.wings))\n",
    "\n",
    "Bird.fly(\"Parrot\")\n",
    "Bird.fly(\"Eagle\")"
   ]
  },
  {
   "cell_type": "code",
   "execution_count": 7,
   "metadata": {},
   "outputs": [
    {
     "ename": "KeyError",
     "evalue": "' '",
     "output_type": "error",
     "traceback": [
      "\u001b[1;31m---------------------------------------------------------------------------\u001b[0m",
      "\u001b[1;31mKeyError\u001b[0m                                  Traceback (most recent call last)",
      "Cell \u001b[1;32mIn[7], line 7\u001b[0m\n\u001b[0;32m      3\u001b[0m     \u001b[39m@classmethod\u001b[39m\n\u001b[0;32m      4\u001b[0m     \u001b[39mdef\u001b[39;00m \u001b[39mfly\u001b[39m(\u001b[39mcls\u001b[39m,name):\n\u001b[0;32m      5\u001b[0m         \u001b[39mprint\u001b[39m(\u001b[39m\"\u001b[39m\u001b[39m{\u001b[39m\u001b[39m } flying with \u001b[39m\u001b[39m{\u001b[39m\u001b[39m } wings\u001b[39m\u001b[39m\"\u001b[39m\u001b[39m.\u001b[39mformat(name,\u001b[39mcls\u001b[39m\u001b[39m.\u001b[39mwings))\n\u001b[1;32m----> 7\u001b[0m Bird\u001b[39m.\u001b[39;49mfly(\u001b[39m\"\u001b[39;49m\u001b[39mParrot\u001b[39;49m\u001b[39m\"\u001b[39;49m)\n\u001b[0;32m      8\u001b[0m Bird\u001b[39m.\u001b[39mfly(\u001b[39m\"\u001b[39m\u001b[39mEagle\u001b[39m\u001b[39m\"\u001b[39m)\n",
      "Cell \u001b[1;32mIn[7], line 5\u001b[0m, in \u001b[0;36mBird.fly\u001b[1;34m(cls, name)\u001b[0m\n\u001b[0;32m      3\u001b[0m \u001b[39m@classmethod\u001b[39m\n\u001b[0;32m      4\u001b[0m \u001b[39mdef\u001b[39;00m \u001b[39mfly\u001b[39m(\u001b[39mcls\u001b[39m,name):\n\u001b[1;32m----> 5\u001b[0m     \u001b[39mprint\u001b[39m(\u001b[39m\"\u001b[39;49m\u001b[39m{\u001b[39;49m\u001b[39m } flying with \u001b[39;49m\u001b[39m{\u001b[39;49m\u001b[39m } wings\u001b[39;49m\u001b[39m\"\u001b[39;49m\u001b[39m.\u001b[39;49mformat(name,\u001b[39mcls\u001b[39;49m\u001b[39m.\u001b[39;49mwings))\n",
      "\u001b[1;31mKeyError\u001b[0m: ' '"
     ]
    }
   ],
   "source": [
    "class Bird:\n",
    "    wings = 2\n",
    "    @classmethod\n",
    "    def fly(cls,name):\n",
    "        print(\"{ } flying with { } wings\".format(name,cls.wings))\n",
    "\n",
    "Bird.fly(\"Parrot\")\n",
    "Bird.fly(\"Eagle\")"
   ]
  },
  {
   "cell_type": "code",
   "execution_count": 8,
   "metadata": {},
   "outputs": [
    {
     "name": "stdout",
     "output_type": "stream",
     "text": [
      "Parrot flying with 2 wings\n",
      "Eagle flying with 2 wings\n"
     ]
    }
   ],
   "source": [
    "class Bird:\n",
    "    wings = 2\n",
    "    @classmethod\n",
    "    def fly(cls,name):\n",
    "        print(\"{} flying with {} wings\".format(name,cls.wings))\n",
    "\n",
    "Bird.fly(\"Parrot\")\n",
    "Bird.fly(\"Eagle\")"
   ]
  },
  {
   "cell_type": "code",
   "execution_count": 11,
   "metadata": {},
   "outputs": [
    {
     "name": "stdout",
     "output_type": "stream",
     "text": [
      "The no. of objects created: 0\n",
      "The no. of objects created: 4\n"
     ]
    }
   ],
   "source": [
    "class Test:\n",
    "    count = 0\n",
    "    def __init__(self):\n",
    "        Test.count= Test.count + 1\n",
    "    @classmethod\n",
    "    def getNo_ofobjects(cls):\n",
    "        print(\"The no. of objects created:\",cls.count)\n",
    "\n",
    "\n",
    "Test.getNo_ofobjects()\n",
    "\n",
    "t1 = Test()\n",
    "t2 = Test()\n",
    "t3 = Test()\n",
    "t4 = Test()\n",
    "Test.getNo_ofobjects()"
   ]
  },
  {
   "cell_type": "code",
   "execution_count": 12,
   "metadata": {},
   "outputs": [],
   "source": [
    "class Durgamath:\n",
    "    @staticmethod\n",
    "    def add(a,b):\n",
    "        print(\"The sum: \",(a+b))\n",
    "    \n",
    "    @staticmethod\n",
    "    def product(a,b):\n",
    "        print(\"The product:\",(a*b))\n",
    "    @staticmethod\n",
    "    def average(a,b):\n",
    "        print(\"The average:\",(a+b)/2)"
   ]
  },
  {
   "cell_type": "code",
   "execution_count": 13,
   "metadata": {},
   "outputs": [
    {
     "name": "stdout",
     "output_type": "stream",
     "text": [
      "The sum:  30\n",
      "The product: 200\n",
      "The average: 15.0\n"
     ]
    }
   ],
   "source": [
    "Durgamath.add(10,20)\n",
    "Durgamath.product(10,20)\n",
    "Durgamath.average(10,20)"
   ]
  },
  {
   "cell_type": "code",
   "execution_count": 14,
   "metadata": {},
   "outputs": [
    {
     "ename": "AttributeError",
     "evalue": "'Test' object has no attribute 'm1'",
     "output_type": "error",
     "traceback": [
      "\u001b[1;31m---------------------------------------------------------------------------\u001b[0m",
      "\u001b[1;31mAttributeError\u001b[0m                            Traceback (most recent call last)",
      "Cell \u001b[1;32mIn[14], line 5\u001b[0m\n\u001b[0;32m      3\u001b[0m         \u001b[39mprint\u001b[39m(\u001b[39m\"\u001b[39m\u001b[39mSome method\u001b[39m\u001b[39m\"\u001b[39m)\n\u001b[0;32m      4\u001b[0m t \u001b[39m=\u001b[39m Test()\n\u001b[1;32m----> 5\u001b[0m t\u001b[39m.\u001b[39;49mm1()\n",
      "\u001b[1;31mAttributeError\u001b[0m: 'Test' object has no attribute 'm1'"
     ]
    }
   ],
   "source": [
    "class Test:\n",
    "    def m():\n",
    "        print(\"Some method\")\n",
    "t = Test()\n",
    "t.m1()"
   ]
  },
  {
   "cell_type": "code",
   "execution_count": 15,
   "metadata": {},
   "outputs": [
    {
     "name": "stdout",
     "output_type": "stream",
     "text": [
      "some method\n"
     ]
    }
   ],
   "source": [
    "class Test:\n",
    "    def m1(x):\n",
    "        print(\"some method\")\n",
    "    \n",
    "t = Test()\n",
    "\n",
    "t.m1()\n"
   ]
  },
  {
   "cell_type": "code",
   "execution_count": 16,
   "metadata": {},
   "outputs": [
    {
     "name": "stdout",
     "output_type": "stream",
     "text": [
      "some method\n"
     ]
    },
    {
     "ename": "TypeError",
     "evalue": "Test.m1() takes 1 positional argument but 2 were given",
     "output_type": "error",
     "traceback": [
      "\u001b[1;31m---------------------------------------------------------------------------\u001b[0m",
      "\u001b[1;31mTypeError\u001b[0m                                 Traceback (most recent call last)",
      "Cell \u001b[1;32mIn[16], line 8\u001b[0m\n\u001b[0;32m      5\u001b[0m t \u001b[39m=\u001b[39m Test()\n\u001b[0;32m      7\u001b[0m t\u001b[39m.\u001b[39mm1()\n\u001b[1;32m----> 8\u001b[0m t\u001b[39m.\u001b[39;49mm1(\u001b[39m10\u001b[39;49m)\n",
      "\u001b[1;31mTypeError\u001b[0m: Test.m1() takes 1 positional argument but 2 were given"
     ]
    }
   ],
   "source": [
    "class Test:\n",
    "    def m1(x):\n",
    "        print(\"some method\")\n",
    "    \n",
    "t = Test()\n",
    "\n",
    "t.m1()\n",
    "t.m1(10)"
   ]
  },
  {
   "cell_type": "code",
   "execution_count": 17,
   "metadata": {},
   "outputs": [],
   "source": [
    "#  Accessing members of one class inside another class\n",
    "class Employee:\n",
    "    def __init__(self,eno,ename,esal):\n",
    "        self.eno = eno\n",
    "        self.ename = ename\n",
    "        self.esal = esal\n",
    "\n",
    "    def display(self):\n",
    "        print(\"Employee number: \",self.eno)\n",
    "        print(\"Employee name: \",self.ename)\n",
    "        print(\"Employee salary: \",self.esal)"
   ]
  },
  {
   "cell_type": "code",
   "execution_count": 18,
   "metadata": {},
   "outputs": [],
   "source": [
    "class Manager:\n",
    "    def updateempsal(emp):\n",
    "        emp.esal = emp.esal + 10000\n",
    "        emp.display()"
   ]
  },
  {
   "cell_type": "code",
   "execution_count": 19,
   "metadata": {},
   "outputs": [
    {
     "name": "stdout",
     "output_type": "stream",
     "text": [
      "Employee number:  101\n",
      "Employee name:  Durga\n",
      "Employee salary:  55000\n"
     ]
    }
   ],
   "source": [
    "emp = Employee(101,'Durga',45000)\n",
    "Manager.updateempsal(emp)"
   ]
  },
  {
   "cell_type": "code",
   "execution_count": 20,
   "metadata": {},
   "outputs": [],
   "source": [
    "## Inner class\n",
    "\n",
    "class Head:\n",
    "    class Brain:\n",
    "        pass"
   ]
  },
  {
   "cell_type": "code",
   "execution_count": 21,
   "metadata": {},
   "outputs": [
    {
     "name": "stdout",
     "output_type": "stream",
     "text": [
      "Outer object creation.......\n",
      "Inner class object creation...............\n",
      "Inner class method.\n"
     ]
    }
   ],
   "source": [
    "class Outer:\n",
    "    def __init__(self):\n",
    "        print(\"Outer object creation.......\")\n",
    "    class Inner:\n",
    "        def __init__(self):\n",
    "            print(\"Inner class object creation...............\")\n",
    "        \n",
    "        def m1(self):\n",
    "            print(\"Inner class method.\")\n",
    "\n",
    "o = Outer()\n",
    "i = o.Inner()\n",
    "i.m1()"
   ]
  },
  {
   "cell_type": "code",
   "execution_count": 23,
   "metadata": {},
   "outputs": [
    {
     "name": "stdout",
     "output_type": "stream",
     "text": [
      "Outer object creation.......\n",
      "Inner class object creation...............\n"
     ]
    }
   ],
   "source": [
    "class Outer:\n",
    "    def __init__(self):\n",
    "        print(\"Outer object creation.......\")\n",
    "    class Inner:\n",
    "        def __init__(self):\n",
    "            print(\"Inner class object creation...............\")\n",
    "        \n",
    "        def m1(self):\n",
    "            print(\"Inner class method.\")\n",
    "\n",
    "o = Outer()\n",
    "i = o.Inner()"
   ]
  },
  {
   "cell_type": "code",
   "execution_count": 24,
   "metadata": {},
   "outputs": [
    {
     "name": "stdout",
     "output_type": "stream",
     "text": [
      "Outer object creation.......\n",
      "Inner class object creation...............\n"
     ]
    }
   ],
   "source": [
    "i = Outer().Inner()"
   ]
  },
  {
   "cell_type": "code",
   "execution_count": 25,
   "metadata": {},
   "outputs": [
    {
     "name": "stdout",
     "output_type": "stream",
     "text": [
      "Outer object creation.......\n",
      "Inner class object creation...............\n",
      "Inner class method.\n"
     ]
    }
   ],
   "source": [
    "Outer().Inner().m1()"
   ]
  },
  {
   "cell_type": "code",
   "execution_count": 27,
   "metadata": {},
   "outputs": [
    {
     "name": "stdout",
     "output_type": "stream",
     "text": [
      "Outer object creation.......\n",
      "Inner class object creation...............\n",
      "Inner class object creation...............\n",
      "nested Inner class method.\n"
     ]
    }
   ],
   "source": [
    "class Outer:\n",
    "    def __init__(self):\n",
    "        print(\"Outer object creation.......\")\n",
    "    class Inner:\n",
    "        def __init__(self):\n",
    "            print(\"Inner class object creation...............\")\n",
    "        class InnerInner:\n",
    "            def __init__(self):\n",
    "                print(\"Inner class object creation...............\")\n",
    "            def m1(self):\n",
    "                print(\"nested Inner class method.\")\n",
    "\n",
    "Outer().Inner().InnerInner().m1()"
   ]
  },
  {
   "cell_type": "code",
   "execution_count": 28,
   "metadata": {},
   "outputs": [
    {
     "name": "stdout",
     "output_type": "stream",
     "text": [
      "Outer object creation.......\n",
      "Inner class object creation...............\n",
      "Inner class object creation...............\n",
      "nested Inner class method.\n"
     ]
    }
   ],
   "source": [
    "class Outer:\n",
    "    def __init__(self):\n",
    "        print(\"Outer object creation.......\")\n",
    "    class Inner:\n",
    "        def __init__(self):\n",
    "            print(\"Inner class object creation...............\")\n",
    "        class InnerInner:\n",
    "            def __init__(self):\n",
    "                print(\"Inner class object creation...............\")\n",
    "            @staticmethod\n",
    "            def m1():\n",
    "                print(\"nested Inner class method.\")\n",
    "\n",
    "Outer().Inner().InnerInner().m1()"
   ]
  },
  {
   "cell_type": "code",
   "execution_count": 29,
   "metadata": {},
   "outputs": [],
   "source": [
    "class Person:\n",
    "\n",
    "    def __init__(self):\n",
    "        print(\"Person object creation.....\")\n",
    "\n",
    "        self.dob = self.Dob()\n",
    "    \n",
    "\n",
    "    class Dob:\n",
    "        def __init__(self):\n",
    "            print(\"DOB object creation\")"
   ]
  },
  {
   "cell_type": "code",
   "execution_count": 30,
   "metadata": {},
   "outputs": [
    {
     "name": "stdout",
     "output_type": "stream",
     "text": [
      "Person object creation.....\n",
      "DOB object creation\n"
     ]
    }
   ],
   "source": [
    "p = Person()"
   ]
  },
  {
   "cell_type": "code",
   "execution_count": 37,
   "metadata": {},
   "outputs": [],
   "source": [
    "class Person:\n",
    "\n",
    "    def __init__(self,name,dd,mm,yyyy):\n",
    "        print(\"Person object creation.....\")\n",
    "        self.name = name\n",
    "        self.dob = self.Dob(dd,mm,yyyy)\n",
    "\n",
    "    def info(self):\n",
    "        print(\"Name:\",self.name)\n",
    "        self.dob.display()\n",
    "\n",
    "    class Dob:\n",
    "        def __init__(self,dd,mm,yyyy):\n",
    "            print(\"DOB object creation\")\n",
    "            self.dd = dd\n",
    "            self.mm = mm\n",
    "            self.yyyy = yyyy\n",
    "        def display(self):\n",
    "            print(\"DOB = {}/{}/{}\".format(self.dd,self.mm,self.yyyy))"
   ]
  },
  {
   "cell_type": "code",
   "execution_count": 38,
   "metadata": {},
   "outputs": [
    {
     "name": "stdout",
     "output_type": "stream",
     "text": [
      "Person object creation.....\n",
      "DOB object creation\n",
      "Name: durga\n",
      "DOB = 24/8/1947\n"
     ]
    }
   ],
   "source": [
    "p = Person(\"durga\",24,8,1947)\n",
    "p.info()"
   ]
  },
  {
   "cell_type": "code",
   "execution_count": null,
   "metadata": {},
   "outputs": [],
   "source": []
  }
 ],
 "metadata": {
  "kernelspec": {
   "display_name": "Python 3",
   "language": "python",
   "name": "python3"
  },
  "language_info": {
   "codemirror_mode": {
    "name": "ipython",
    "version": 3
   },
   "file_extension": ".py",
   "mimetype": "text/x-python",
   "name": "python",
   "nbconvert_exporter": "python",
   "pygments_lexer": "ipython3",
   "version": "3.11.0"
  },
  "orig_nbformat": 4
 },
 "nbformat": 4,
 "nbformat_minor": 2
}
