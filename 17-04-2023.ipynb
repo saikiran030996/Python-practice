{
 "cells": [
  {
   "cell_type": "code",
   "execution_count": 1,
   "source": [
    "class Student:\n",
    "    schoolname = \"Durga soft\"  #--------------------> Static variables\n",
    "\n",
    "    def __init__(self,name,rollno):\n",
    "        self.name = name          #------------------> Instance variables\n",
    "        self.rollno = rollno      #------------------> Instance variables\n",
    "\n",
    "    def get_student_info(self):   #-------------------> Instance method\n",
    "        print(\"Student name: \",self.name)\n",
    "        print(\"Student rolllno: \",self.rollno)\n",
    "    @classmethod\n",
    "    def get_student_school(cls):\n",
    "        print(\"Student school: \",Student.schoolname)\n",
    "    @staticmethod\n",
    "    def get_total_marks(a,b,c,d):\n",
    "        return a+b+c+d\n",
    "\n",
    "s1 = Student('Jhonny',101)\n",
    "s1.get_student_info()\n",
    "s1.get_student_school()\n",
    "s1.get_total_marks(20,30,40,50)\n",
    "\n",
    "\n",
    "class Test:\n",
    "    a = 10\n",
    "    @classmethod\n",
    "    def m1(cls):\n",
    "        del Test.a\n",
    "\n",
    "print(Test.__dict__)"
   ],
   "outputs": [
    {
     "output_type": "stream",
     "name": "stdout",
     "text": [
      "Student name:  Jhonny\n",
      "Student rolllno:  101\n",
      "Student school:  Durga soft\n",
      "{'__module__': '__main__', 'a': 10, 'm1': <classmethod object at 0x000001A2099CF400>, '__dict__': <attribute '__dict__' of 'Test' objects>, '__weakref__': <attribute '__weakref__' of 'Test' objects>, '__doc__': None}\n"
     ]
    }
   ],
   "metadata": {}
  },
  {
   "cell_type": "code",
   "execution_count": 2,
   "source": [
    "class Student:\n",
    "    schoolname = \"Durga soft\"  #--------------------> Static variables\n",
    "\n",
    "    def __init__(self,name,rollno):\n",
    "        self.name = name          #------------------> Instance variables\n",
    "        self.rollno = rollno      #------------------> Instance variables\n",
    "\n",
    "    def get_student_info(self):   #-------------------> Instance method\n",
    "        print(\"Student name: \",self.name)\n",
    "        print(\"Student rolllno: \",self.rollno)\n",
    "    @classmethod\n",
    "    def get_student_school(cls):\n",
    "        print(\"Student school: \",Student.schoolname)\n",
    "    @staticmethod\n",
    "    def get_total_marks(a,b,c,d):\n",
    "        return a+b+c+d\n",
    "\n",
    "s1 = Student('Jhonny',101)\n",
    "s1.get_student_info()\n",
    "s1.get_student_school()\n",
    "s1.get_total_marks(20,30,40,50)\n",
    "\n",
    "\n",
    "class Test:\n",
    "    a = 10\n",
    "    @classmethod\n",
    "    def m1(cls):\n",
    "        del Test.a\n",
    "\n",
    "print(Test.__dict__)"
   ],
   "outputs": [
    {
     "output_type": "stream",
     "name": "stdout",
     "text": [
      "Student name:  Jhonny\n",
      "Student rolllno:  101\n",
      "Student school:  Durga soft\n",
      "{'__module__': '__main__', 'a': 10, 'm1': <classmethod object at 0x000001A209B1CBE0>, '__dict__': <attribute '__dict__' of 'Test' objects>, '__weakref__': <attribute '__weakref__' of 'Test' objects>, '__doc__': None}\n"
     ]
    }
   ],
   "metadata": {}
  },
  {
   "cell_type": "code",
   "execution_count": 3,
   "source": [
    "class Test:\n",
    "    a = 10\n",
    "    @classmethod\n",
    "    def m1(cls):\n",
    "        del Test.a\n",
    "\n",
    "print(Test.__dict__)"
   ],
   "outputs": [
    {
     "output_type": "stream",
     "name": "stdout",
     "text": [
      "{'__module__': '__main__', 'a': 10, 'm1': <classmethod object at 0x000001A209B1C2E0>, '__dict__': <attribute '__dict__' of 'Test' objects>, '__weakref__': <attribute '__weakref__' of 'Test' objects>, '__doc__': None}\n"
     ]
    }
   ],
   "metadata": {}
  },
  {
   "cell_type": "code",
   "execution_count": 4,
   "source": [
    "class Test:\n",
    "    a = 10\n",
    "    @classmethod\n",
    "    def m1(cls):\n",
    "        del cls.a\n",
    "\n",
    "print(Test.__dict__)"
   ],
   "outputs": [
    {
     "output_type": "stream",
     "name": "stdout",
     "text": [
      "{'__module__': '__main__', 'a': 10, 'm1': <classmethod object at 0x000001A209AE3610>, '__dict__': <attribute '__dict__' of 'Test' objects>, '__weakref__': <attribute '__weakref__' of 'Test' objects>, '__doc__': None}\n"
     ]
    }
   ],
   "metadata": {}
  },
  {
   "cell_type": "code",
   "execution_count": 5,
   "source": [
    "class Test:\n",
    "    a = 10\n",
    "    @classmethod\n",
    "    def m1(cls):\n",
    "        del Test.a\n",
    "Test.m1()\n",
    "print(Test.__dict__)"
   ],
   "outputs": [
    {
     "output_type": "stream",
     "name": "stdout",
     "text": [
      "{'__module__': '__main__', 'm1': <classmethod object at 0x000001A209AE37C0>, '__dict__': <attribute '__dict__' of 'Test' objects>, '__weakref__': <attribute '__weakref__' of 'Test' objects>, '__doc__': None}\n"
     ]
    }
   ],
   "metadata": {}
  },
  {
   "cell_type": "code",
   "execution_count": 6,
   "source": [
    "class Test:\n",
    "    a = 10\n",
    "    @classmethod\n",
    "    def m1(cls):\n",
    "        del Test.a\n",
    "t1 = Test()\n",
    "t1.m1()\n",
    "print(Test.__dict__)"
   ],
   "outputs": [
    {
     "output_type": "stream",
     "name": "stdout",
     "text": [
      "{'__module__': '__main__', 'm1': <classmethod object at 0x000001A209AE3EB0>, '__dict__': <attribute '__dict__' of 'Test' objects>, '__weakref__': <attribute '__weakref__' of 'Test' objects>, '__doc__': None}\n"
     ]
    }
   ],
   "metadata": {}
  },
  {
   "cell_type": "code",
   "execution_count": 7,
   "source": [
    "class Test:\n",
    "    a = 10\n",
    "    @classmethod\n",
    "    def m1(cls):\n",
    "        #del Test.a\n",
    "        del cls.a\n",
    "        \n",
    "t1 = Test()\n",
    "t1.m1()\n",
    "print(Test.__dict__)"
   ],
   "outputs": [
    {
     "output_type": "stream",
     "name": "stdout",
     "text": [
      "{'__module__': '__main__', 'm1': <classmethod object at 0x000001A2099CF580>, '__dict__': <attribute '__dict__' of 'Test' objects>, '__weakref__': <attribute '__weakref__' of 'Test' objects>, '__doc__': None}\n"
     ]
    }
   ],
   "metadata": {}
  },
  {
   "cell_type": "code",
   "execution_count": 8,
   "source": [
    "class Test:\n",
    "    a = 10\n",
    "    @classmethod\n",
    "    def m1(cls):\n",
    "        #del Test.a\n",
    "\n",
    "del Test.a\n",
    "\n",
    "print(Test.__dict__)"
   ],
   "outputs": [
    {
     "output_type": "error",
     "ename": "IndentationError",
     "evalue": "expected an indented block (<ipython-input-8-f8ad856419e8>, line 7)",
     "traceback": [
      "\u001b[1;36m  Input \u001b[1;32mIn [8]\u001b[1;36m\u001b[0m\n\u001b[1;33m    del Test.a\u001b[0m\n\u001b[1;37m              ^\u001b[0m\n\u001b[1;31mIndentationError\u001b[0m\u001b[1;31m:\u001b[0m expected an indented block\n"
     ]
    }
   ],
   "metadata": {}
  },
  {
   "cell_type": "code",
   "execution_count": 9,
   "source": [
    "class Test:\n",
    "    a = 10\n",
    "    #@classmethod\n",
    "    #def m1(cls):\n",
    "     #   del Test.a\n",
    "\n",
    "del Test.a\n",
    "\n",
    "print(Test.__dict__)"
   ],
   "outputs": [
    {
     "output_type": "stream",
     "name": "stdout",
     "text": [
      "{'__module__': '__main__', '__dict__': <attribute '__dict__' of 'Test' objects>, '__weakref__': <attribute '__weakref__' of 'Test' objects>, '__doc__': None}\n"
     ]
    }
   ],
   "metadata": {}
  },
  {
   "cell_type": "code",
   "execution_count": 10,
   "source": [
    "class Test:\n",
    "    a = 10\n",
    "\n",
    "print(Test.__dict__)"
   ],
   "outputs": [
    {
     "output_type": "stream",
     "name": "stdout",
     "text": [
      "{'__module__': '__main__', 'a': 10, '__dict__': <attribute '__dict__' of 'Test' objects>, '__weakref__': <attribute '__weakref__' of 'Test' objects>, '__doc__': None}\n"
     ]
    }
   ],
   "metadata": {}
  },
  {
   "cell_type": "code",
   "execution_count": 11,
   "source": [
    "class Test:\n",
    "    a= 10\n",
    "    def __init__(self):\n",
    "        Test.b = 20\n",
    "        del Test.a\n",
    "    def m1(self):\n",
    "        Test.c = 30\n",
    "        del Test.b \n",
    "    @classmethod\n",
    "    def m2(cls):\n",
    "        cls.d = 40\n",
    "        del Test.c\n",
    "    @staticmethod\n",
    "    def m3():\n",
    "        Test.e= 50\n",
    "        del Test.d\n",
    "del Test.a \n",
    "\n",
    "print(Test.__dict__)"
   ],
   "outputs": [
    {
     "output_type": "stream",
     "name": "stdout",
     "text": [
      "{'__module__': '__main__', '__init__': <function Test.__init__ at 0x000001A209B33430>, 'm1': <function Test.m1 at 0x000001A209B33280>, 'm2': <classmethod object at 0x000001A209B7A070>, 'm3': <staticmethod object at 0x000001A209B7A0A0>, '__dict__': <attribute '__dict__' of 'Test' objects>, '__weakref__': <attribute '__weakref__' of 'Test' objects>, '__doc__': None}\n"
     ]
    }
   ],
   "metadata": {}
  },
  {
   "cell_type": "code",
   "execution_count": 12,
   "source": [
    "class Test:\n",
    "    a= 10\n",
    "    def __init__(self):\n",
    "        Test.b = 20\n",
    "        del Test.a\n",
    "    def m1(self):\n",
    "        Test.c = 30\n",
    "        del Test.b \n",
    "    @classmethod\n",
    "    def m2(cls):\n",
    "        cls.d = 40\n",
    "        del Test.c\n",
    "    @staticmethod\n",
    "    def m3():\n",
    "        Test.e= 50\n",
    "        del Test.d\n",
    "\n",
    "print(Test.__dict__)"
   ],
   "outputs": [
    {
     "output_type": "stream",
     "name": "stdout",
     "text": [
      "{'__module__': '__main__', 'a': 10, '__init__': <function Test.__init__ at 0x000001A209B33CA0>, 'm1': <function Test.m1 at 0x000001A209B33D30>, 'm2': <classmethod object at 0x000001A2099CF100>, 'm3': <staticmethod object at 0x000001A2099CFAC0>, '__dict__': <attribute '__dict__' of 'Test' objects>, '__weakref__': <attribute '__weakref__' of 'Test' objects>, '__doc__': None}\n"
     ]
    }
   ],
   "metadata": {}
  },
  {
   "cell_type": "code",
   "execution_count": 13,
   "source": [
    "class Test:\n",
    "    a= 10\n",
    "    def __init__(self):\n",
    "        Test.b = 20\n",
    "        del Test.a\n",
    "    def m1(self):\n",
    "        Test.c = 30\n",
    "        del Test.b \n",
    "    @classmethod\n",
    "    def m2(cls):\n",
    "        cls.d = 40\n",
    "        del Test.c\n",
    "    @staticmethod\n",
    "    def m3():\n",
    "        Test.e= 50\n",
    "        del Test.d\n",
    "t1 = Test()\n",
    "\n",
    "\n",
    "print(Test.__dict__)"
   ],
   "outputs": [
    {
     "output_type": "stream",
     "name": "stdout",
     "text": [
      "{'__module__': '__main__', '__init__': <function Test.__init__ at 0x000001A209B33A60>, 'm1': <function Test.m1 at 0x000001A209B339D0>, 'm2': <classmethod object at 0x000001A209B7ADF0>, 'm3': <staticmethod object at 0x000001A209B7AA90>, '__dict__': <attribute '__dict__' of 'Test' objects>, '__weakref__': <attribute '__weakref__' of 'Test' objects>, '__doc__': None, 'b': 20}\n"
     ]
    }
   ],
   "metadata": {}
  },
  {
   "cell_type": "code",
   "execution_count": 14,
   "source": [
    "class Test:\n",
    "    a= 10\n",
    "    def __init__(self):\n",
    "        Test.b = 20\n",
    "        del Test.a\n",
    "    def m1(self):\n",
    "        Test.c = 30\n",
    "        del Test.b \n",
    "    @classmethod\n",
    "    def m2(cls):\n",
    "        cls.d = 40\n",
    "        del Test.c\n",
    "    @staticmethod\n",
    "    def m3():\n",
    "        Test.e= 50\n",
    "        del Test.d\n",
    "t1 = Test()\n",
    "t1.m1()\n",
    "\n",
    "print(Test.__dict__)"
   ],
   "outputs": [
    {
     "output_type": "stream",
     "name": "stdout",
     "text": [
      "{'__module__': '__main__', '__init__': <function Test.__init__ at 0x000001A209B33AF0>, 'm1': <function Test.m1 at 0x000001A209B333A0>, 'm2': <classmethod object at 0x000001A209B7A700>, 'm3': <staticmethod object at 0x000001A209B7A8B0>, '__dict__': <attribute '__dict__' of 'Test' objects>, '__weakref__': <attribute '__weakref__' of 'Test' objects>, '__doc__': None, 'c': 30}\n"
     ]
    }
   ],
   "metadata": {}
  },
  {
   "cell_type": "code",
   "execution_count": 15,
   "source": [
    "class Test:\n",
    "    a = 10\n",
    "\n",
    "t = Test()\n",
    "print(t.a)"
   ],
   "outputs": [
    {
     "output_type": "stream",
     "name": "stdout",
     "text": [
      "10\n"
     ]
    }
   ],
   "metadata": {}
  },
  {
   "cell_type": "code",
   "execution_count": 16,
   "source": [
    "class Test:\n",
    "    a = 10\n",
    "\n",
    "t = Test()\n",
    "del t.a"
   ],
   "outputs": [
    {
     "output_type": "error",
     "ename": "AttributeError",
     "evalue": "a",
     "traceback": [
      "\u001b[1;31m---------------------------------------------------------------------------\u001b[0m",
      "\u001b[1;31mAttributeError\u001b[0m                            Traceback (most recent call last)",
      "Input \u001b[1;32mIn [16]\u001b[0m, in \u001b[0;36m<cell line: 5>\u001b[1;34m()\u001b[0m\n\u001b[0;32m      2\u001b[0m     a \u001b[39m=\u001b[39m \u001b[39m10\u001b[39m\n\u001b[0;32m      4\u001b[0m t \u001b[39m=\u001b[39m Test()\n\u001b[1;32m----> 5\u001b[0m \u001b[39mdel\u001b[39;00m t\u001b[39m.\u001b[39ma\n",
      "\u001b[1;31mAttributeError\u001b[0m: a"
     ]
    }
   ],
   "metadata": {}
  },
  {
   "cell_type": "code",
   "execution_count": 17,
   "source": [
    "class Test:\n",
    "    a = 10\n",
    "    def __init__(self):\n",
    "        self.b = 20\n",
    "\n",
    "t1 = Test()\n",
    "t2 = Test()\n",
    "Test.a = 888\n",
    "t1.b = 999\n",
    "print(\"t1:\",t1.a,t1.b)"
   ],
   "outputs": [
    {
     "output_type": "stream",
     "name": "stdout",
     "text": [
      "t1: 888 999\n"
     ]
    }
   ],
   "metadata": {}
  },
  {
   "cell_type": "code",
   "execution_count": 18,
   "source": [
    "print(t2.a,t2.b)"
   ],
   "outputs": [
    {
     "output_type": "stream",
     "name": "stdout",
     "text": [
      "888 20\n"
     ]
    }
   ],
   "metadata": {}
  },
  {
   "cell_type": "code",
   "execution_count": 19,
   "source": [
    "class Test:\n",
    "    @staticmethod\n",
    "    def average(list1):\n",
    "        result = sum(list1)/len(list1)\n",
    "        print(result)\n",
    "\n",
    "\n",
    "list1 = [10,20,30,40]\n",
    "Test.average(list1)\n",
    ""
   ],
   "outputs": [
    {
     "output_type": "stream",
     "name": "stdout",
     "text": [
      "25.0\n"
     ]
    }
   ],
   "metadata": {}
  },
  {
   "cell_type": "code",
   "execution_count": 20,
   "source": [
    "class Test:\n",
    "    @staticmethod\n",
    "    def average(list1):\n",
    "        result = sum(list1)/len(list1)\n",
    "        print(result)\n",
    "    @staticmethod\n",
    "    def wish(name):\n",
    "        for i in range(10):\n",
    "            print(\"Good evening:\",name)\n",
    "list1 = [10,20,30,40]\n",
    "Test.average(list1)\n",
    "Test.wish(\"saikiran\")"
   ],
   "outputs": [
    {
     "output_type": "stream",
     "name": "stdout",
     "text": [
      "25.0\n",
      "Good evening: saikiran\n",
      "Good evening: saikiran\n",
      "Good evening: saikiran\n",
      "Good evening: saikiran\n",
      "Good evening: saikiran\n",
      "Good evening: saikiran\n",
      "Good evening: saikiran\n",
      "Good evening: saikiran\n",
      "Good evening: saikiran\n",
      "Good evening: saikiran\n"
     ]
    }
   ],
   "metadata": {}
  },
  {
   "cell_type": "code",
   "execution_count": 21,
   "source": [
    "class Test:\n",
    "    def m1(self):\n",
    "        a =10\n",
    "        print(a)\n",
    "\n",
    "t = Test()\n",
    "t.m1()"
   ],
   "outputs": [
    {
     "output_type": "stream",
     "name": "stdout",
     "text": [
      "10\n"
     ]
    }
   ],
   "metadata": {}
  },
  {
   "cell_type": "code",
   "execution_count": 22,
   "source": [
    "class Test:\n",
    "    def m1(self):\n",
    "        a =10\n",
    "        print(a)\n",
    "    def m2(self):\n",
    "        print(a)\n",
    "\n",
    "t = Test()\n",
    "t.m1()"
   ],
   "outputs": [
    {
     "output_type": "stream",
     "name": "stdout",
     "text": [
      "10\n"
     ]
    }
   ],
   "metadata": {}
  },
  {
   "cell_type": "code",
   "execution_count": 23,
   "source": [
    "class Test:\n",
    "    def m1(self):\n",
    "        a =10\n",
    "        print(a)\n",
    "    def m2(self):\n",
    "        print(a)\n",
    "\n",
    "t = Test()\n",
    "t.m1()\n",
    "t.m2()"
   ],
   "outputs": [
    {
     "output_type": "stream",
     "name": "stdout",
     "text": [
      "10\n"
     ]
    },
    {
     "output_type": "error",
     "ename": "NameError",
     "evalue": "name 'a' is not defined",
     "traceback": [
      "\u001b[1;31m---------------------------------------------------------------------------\u001b[0m",
      "\u001b[1;31mNameError\u001b[0m                                 Traceback (most recent call last)",
      "Input \u001b[1;32mIn [23]\u001b[0m, in \u001b[0;36m<cell line: 10>\u001b[1;34m()\u001b[0m\n\u001b[0;32m      8\u001b[0m t \u001b[39m=\u001b[39m Test()\n\u001b[0;32m      9\u001b[0m t\u001b[39m.\u001b[39mm1()\n\u001b[1;32m---> 10\u001b[0m t\u001b[39m.\u001b[39;49mm2()\n",
      "Input \u001b[1;32mIn [23]\u001b[0m, in \u001b[0;36mTest.m2\u001b[1;34m(self)\u001b[0m\n\u001b[0;32m      5\u001b[0m \u001b[39mdef\u001b[39;00m \u001b[39mm2\u001b[39m(\u001b[39mself\u001b[39m):\n\u001b[1;32m----> 6\u001b[0m     \u001b[39mprint\u001b[39m(a)\n",
      "\u001b[1;31mNameError\u001b[0m: name 'a' is not defined"
     ]
    }
   ],
   "metadata": {}
  }
 ],
 "nbformat": 4,
 "nbformat_minor": 2,
 "metadata": {
  "language_info": {
   "codemirror_mode": {
    "name": "ipython",
    "version": 3
   },
   "file_extension": ".py",
   "mimetype": "text/x-python",
   "name": "python",
   "nbconvert_exporter": "python",
   "pygments_lexer": "ipython3",
   "version": 3
  },
  "orig_nbformat": 4
 }
}