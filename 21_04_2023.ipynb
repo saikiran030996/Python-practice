{
 "cells": [
  {
   "cell_type": "code",
   "execution_count": 16,
   "metadata": {},
   "outputs": [
    {
     "name": "stdout",
     "output_type": "stream",
     "text": [
      "Hello saikiran\n"
     ]
    }
   ],
   "source": [
    "print(\"Hello saikiran\")"
   ]
  },
  {
   "cell_type": "code",
   "execution_count": 17,
   "metadata": {},
   "outputs": [],
   "source": [
    "# INTERVIEW QUESTIONS\n",
    "#1. Write a program to reverse given string?\n",
    "\n",
    "# Input = \"Durga\"\n",
    "# Output = \"agruD\"\n",
    "\n"
   ]
  },
  {
   "cell_type": "code",
   "execution_count": 18,
   "metadata": {},
   "outputs": [
    {
     "data": {
      "text/plain": [
       "False"
      ]
     },
     "execution_count": 18,
     "metadata": {},
     "output_type": "execute_result"
    }
   ],
   "source": [
    "gc.isenabled()"
   ]
  },
  {
   "cell_type": "code",
   "execution_count": 19,
   "metadata": {},
   "outputs": [],
   "source": [
    "import gc"
   ]
  },
  {
   "cell_type": "code",
   "execution_count": 20,
   "metadata": {},
   "outputs": [
    {
     "name": "stdout",
     "output_type": "stream",
     "text": [
      "False\n"
     ]
    }
   ],
   "source": [
    "print(gc.isenabled())"
   ]
  },
  {
   "cell_type": "code",
   "execution_count": 21,
   "metadata": {},
   "outputs": [],
   "source": [
    "gc.disable()"
   ]
  },
  {
   "cell_type": "code",
   "execution_count": 22,
   "metadata": {},
   "outputs": [
    {
     "name": "stdout",
     "output_type": "stream",
     "text": [
      "False\n"
     ]
    }
   ],
   "source": [
    "print(gc.isenabled())"
   ]
  },
  {
   "cell_type": "code",
   "execution_count": 23,
   "metadata": {},
   "outputs": [],
   "source": [
    "import time\n",
    "#Destructors\n",
    "class Test:\n",
    "    def __init__(self):\n",
    "        print(\"object intialization activities.......\")\n",
    "    def __del__(self):\n",
    "        print(\"Fullfilling last wish and performing clean up acitivities.....\")"
   ]
  },
  {
   "cell_type": "code",
   "execution_count": 24,
   "metadata": {},
   "outputs": [
    {
     "name": "stdout",
     "output_type": "stream",
     "text": [
      "object intialization activities.......\n",
      "Fullfilling last wish and performing clean up acitivities.....\n",
      "End of application\n"
     ]
    }
   ],
   "source": [
    "t = Test()\n",
    "\n",
    "t = None\n",
    "\n",
    "time.sleep(10)\n",
    "\n",
    "print(\"End of application\")"
   ]
  },
  {
   "cell_type": "code",
   "execution_count": 25,
   "metadata": {},
   "outputs": [],
   "source": [
    "import time\n",
    "#Destructors\n",
    "class Test:\n",
    "    def __init__(self):\n",
    "        print(\"object intialization activities.......\")\n",
    "    def __del__(self):\n",
    "        print(\"Fullfilling last wish and performing clean up acitivities.....\")"
   ]
  },
  {
   "cell_type": "code",
   "execution_count": 26,
   "metadata": {},
   "outputs": [
    {
     "name": "stdout",
     "output_type": "stream",
     "text": [
      "object intialization activities.......\n",
      "Fullfilling last wish and performing clean up acitivities.....\n",
      "object intialization activities.......\n",
      "Fullfilling last wish and performing clean up acitivities.....\n",
      "End of application\n"
     ]
    }
   ],
   "source": [
    "t1 = Test()\n",
    "t2 = Test()\n",
    "print(\"End of application\")"
   ]
  },
  {
   "cell_type": "code",
   "execution_count": 28,
   "metadata": {},
   "outputs": [
    {
     "name": "stdout",
     "output_type": "stream",
     "text": [
      "object intialization activities.......\n",
      "object intialization activities.......\n",
      "Fullfilling last wish and performing clean up acitivities.....\n",
      "Fullfilling last wish and performing clean up acitivities.....\n",
      "End of application\n"
     ]
    }
   ],
   "source": [
    "import time\n",
    "#Destructors\n",
    "class Test:\n",
    "    def __init__(self):\n",
    "        print(\"object intialization activities.......\")\n",
    "    def __del__(self):\n",
    "        print(\"Fullfilling last wish and performing clean up acitivities.....\")\n",
    "\n",
    "t1 = Test()\n",
    "t2 = Test()\n",
    "t1 = None\n",
    "t2 = None\n",
    "print(\"End of application\")"
   ]
  },
  {
   "cell_type": "code",
   "execution_count": 29,
   "metadata": {},
   "outputs": [],
   "source": [
    "class Test:\n",
    "    def __init__(self):\n",
    "        print(\"Constructor Execution..........\")\n",
    "\n",
    "    def __del__(self):\n",
    "        print(\"Destructor execution.......\")\n",
    "        "
   ]
  },
  {
   "cell_type": "code",
   "execution_count": 30,
   "metadata": {},
   "outputs": [
    {
     "name": "stdout",
     "output_type": "stream",
     "text": [
      "Constructor Execution..........\n",
      "Objected not destroyed after deleting t1\n",
      "Objected not destroyed after deleting t2\n",
      "Destructor execution.......\n"
     ]
    }
   ],
   "source": [
    "t1 = Test()\n",
    "\n",
    "t2 = t1\n",
    "\n",
    "t3 = t1\n",
    "\n",
    "del t1\n",
    "\n",
    "time.sleep(10)\n",
    "\n",
    "print(\"Objected not destroyed after deleting t1\")\n",
    "\n",
    "del t2 \n",
    "\n",
    "time.sleep(10)\n",
    "\n",
    "print(\"Objected not destroyed after deleting t2\")\n",
    "\n",
    "\n",
    "time.sleep(10)\n",
    "\n",
    "del t3 \n",
    "\n",
    "\n"
   ]
  },
  {
   "cell_type": "code",
   "execution_count": 31,
   "metadata": {},
   "outputs": [
    {
     "name": "stdout",
     "output_type": "stream",
     "text": [
      "Constructor execution.....................\n",
      "Constructor execution.....................\n",
      "Constructor execution.....................\n",
      "Destructor execution.........\n",
      "Destructor execution.........\n",
      "Destructor execution.........\n"
     ]
    }
   ],
   "source": [
    "class Test:\n",
    "    def __init__(self):\n",
    "        print(\"Constructor execution.....................\")\n",
    "    \n",
    "    def __del__(self):\n",
    "        print(\"Destructor execution.........\")\n",
    "\n",
    "l = [Test(),Test(),Test()]\n",
    "\n",
    "del l"
   ]
  },
  {
   "cell_type": "code",
   "execution_count": 32,
   "metadata": {},
   "outputs": [
    {
     "name": "stdout",
     "output_type": "stream",
     "text": [
      "Constructor execution.....................\n",
      "Constructor execution.....................\n",
      "Constructor execution.....................\n",
      "Destructor execution.........\n",
      "Destructor execution.........\n",
      "Destructor execution.........\n",
      "End of application..\n"
     ]
    }
   ],
   "source": [
    "class Test:\n",
    "    def __init__(self):\n",
    "        print(\"Constructor execution.....................\")\n",
    "    \n",
    "    def __del__(self):\n",
    "        print(\"Destructor execution.........\")\n",
    "\n",
    "l = [Test(),Test(),Test()]\n",
    "\n",
    "del l\n",
    "\n",
    "time.sleep(10)\n",
    "\n",
    "print(\"End of application..\")"
   ]
  },
  {
   "cell_type": "code",
   "execution_count": 37,
   "metadata": {},
   "outputs": [],
   "source": [
    "import sys\n",
    "class Test:\n",
    "    pass "
   ]
  },
  {
   "cell_type": "code",
   "execution_count": 38,
   "metadata": {},
   "outputs": [
    {
     "name": "stdout",
     "output_type": "stream",
     "text": [
      "2\n"
     ]
    }
   ],
   "source": [
    "t1 = Test()\n",
    "\n",
    "print(sys.getrefcount(t1))"
   ]
  },
  {
   "cell_type": "code",
   "execution_count": 39,
   "metadata": {},
   "outputs": [],
   "source": [
    "# Iheritance\n",
    "# composition\n",
    "class Engine:\n",
    "\n",
    "    def m1(self):\n",
    "        print(\"Engine specific functionality\")"
   ]
  },
  {
   "cell_type": "code",
   "execution_count": 40,
   "metadata": {},
   "outputs": [],
   "source": [
    "class Car:\n",
    "    def __init__(self):\n",
    "        self.engine = Engine()\n",
    "\n",
    "    def m2(self):\n",
    "        print(\"car required engine functionality\")\n",
    "\n",
    "        self.engine.m1()"
   ]
  },
  {
   "cell_type": "code",
   "execution_count": 41,
   "metadata": {},
   "outputs": [
    {
     "name": "stdout",
     "output_type": "stream",
     "text": [
      "car required engine functionality\n",
      "Engine specific functionality\n"
     ]
    }
   ],
   "source": [
    "c = Car()\n",
    "c.m2()"
   ]
  },
  {
   "cell_type": "code",
   "execution_count": 50,
   "metadata": {},
   "outputs": [],
   "source": [
    "class Car:\n",
    "    def __init__(self,name,model,color):\n",
    "        self.name = name\n",
    "        self.model = model\n",
    "        self.color = color\n",
    "    \n",
    "    def getInfo(self):\n",
    "        print(\"Car name{},Model:{},color:{}\".format(self.name,self.model,self.color))\n",
    "\n",
    "\n",
    "class Employee:\n",
    "    def __init__(self,ename,eno,car):\n",
    "        self.ename = ename\n",
    "        self.eno = eno\n",
    "        self.car = car\n",
    "\n",
    "    def empinfo(self):\n",
    "        print(\"Employee Name: \",self.ename)\n",
    "        print(\"Employee No: \",self.eno)\n",
    "        print(\"Car Info:\")\n",
    "        self.car.getInfo()\n"
   ]
  },
  {
   "cell_type": "code",
   "execution_count": 51,
   "metadata": {},
   "outputs": [
    {
     "name": "stdout",
     "output_type": "stream",
     "text": [
      "Employee Name:  Durga\n",
      "Employee No:  12345\n",
      "Car Info:\n",
      "Car nameInnova,Model:2.5V,color:Grey\n"
     ]
    }
   ],
   "source": [
    "car = Car(\"Innova\",\"2.5V\",\"Grey\")\n",
    "e = Employee(\"Durga\",12345,car)\n",
    "e.empinfo()"
   ]
  },
  {
   "cell_type": "code",
   "execution_count": 55,
   "metadata": {},
   "outputs": [
    {
     "name": "stdout",
     "output_type": "stream",
     "text": [
      "Welcome to Durga News:\n",
      "Sports Information-1\n",
      "Sports Information-2\n",
      "Sports Information-3\n",
      "Sports Information-4\n",
      "Movies Information-1\n",
      "Movies Information-2\n",
      "Movies Information-3\n",
      "Movies Information-4\n",
      "politics Information-1\n",
      "politics Information-2\n",
      "politics Information-3\n",
      "politics Information-4\n"
     ]
    }
   ],
   "source": [
    "class SportsNews:\n",
    "    def sportsInfo(self):\n",
    "        print(\"Sports Information-1\")\n",
    "        print(\"Sports Information-2\")\n",
    "        print(\"Sports Information-3\")\n",
    "        print(\"Sports Information-4\")\n",
    "\n",
    "class MoviesNews:\n",
    "    def MoviesInfo(self):\n",
    "        print(\"Movies Information-1\")\n",
    "        print(\"Movies Information-2\")\n",
    "        print(\"Movies Information-3\")\n",
    "        print(\"Movies Information-4\")\n",
    "\n",
    "class PoliticsNews:\n",
    "    def PoliticsInfo(self):\n",
    "        print(\"politics Information-1\")\n",
    "        print(\"politics Information-2\")\n",
    "        print(\"politics Information-3\")\n",
    "        print(\"politics Information-4\")\n",
    "\n",
    "\n",
    "class DurgaNews:\n",
    "    def __init__(self):\n",
    "        self.sports = SportsNews()\n",
    "        self.movies = MoviesNews()\n",
    "        self.politics = PoliticsNews()\n",
    "    \n",
    "    def getTotalNews(self):\n",
    "        print(\"Welcome to Durga News:\")\n",
    "        self.sports.sportsInfo()\n",
    "        self.movies.MoviesInfo()\n",
    "        self.politics.PoliticsInfo()\n",
    "\n",
    "\n",
    "dnews = DurgaNews()\n",
    "dnews.getTotalNews()"
   ]
  },
  {
   "cell_type": "code",
   "execution_count": 58,
   "metadata": {},
   "outputs": [
    {
     "name": "stdout",
     "output_type": "stream",
     "text": [
      "Welcome to Durga News: \n",
      "Sports Information-1\n",
      "Sports Information-2\n",
      "Sports Information-3\n",
      "Sports Information-4\n",
      "Movies Information-1\n",
      "Movies Information-2\n",
      "Movies Information-3\n",
      "Movies Information-4\n",
      "politics Information-1\n",
      "politics Information-2\n",
      "politics Information-3\n",
      "politics Information-4\n"
     ]
    }
   ],
   "source": [
    "class SportsNews:\n",
    "    def sportsInfo(self):\n",
    "        print(\"Sports Information-1\")\n",
    "        print(\"Sports Information-2\")\n",
    "        print(\"Sports Information-3\")\n",
    "        print(\"Sports Information-4\")\n",
    "\n",
    "class MoviesNews:\n",
    "    def MoviesInfo(self):\n",
    "        print(\"Movies Information-1\")\n",
    "        print(\"Movies Information-2\")\n",
    "        print(\"Movies Information-3\")\n",
    "        print(\"Movies Information-4\")\n",
    "\n",
    "class PoliticsNews:\n",
    "    def PoliticsInfo(self):\n",
    "        print(\"politics Information-1\")\n",
    "        print(\"politics Information-2\")\n",
    "        print(\"politics Information-3\")\n",
    "        print(\"politics Information-4\")\n",
    "\n",
    "\n",
    "class DurgaNews:\n",
    "    def __init__(self,sports,movies,politics):\n",
    "        self.sports = sports\n",
    "        self.movies = movies\n",
    "        self.politics = politics\n",
    "\n",
    "    def getTotalNews(self):\n",
    "        print(\"Welcome to Durga News: \")\n",
    "        self.sports.sportsInfo()\n",
    "        self.movies.MoviesInfo()\n",
    "        self.politics.PoliticsInfo()\n",
    "\n",
    "sports = SportsNews()\n",
    "movies = MoviesNews()\n",
    "politics = PoliticsNews()\n",
    "dnews = DurgaNews(sports,movies,politics)\n",
    "dnews.getTotalNews()"
   ]
  },
  {
   "cell_type": "code",
   "execution_count": null,
   "metadata": {},
   "outputs": [],
   "source": [
    "## 21-04-2023 completed"
   ]
  }
 ],
 "metadata": {
  "kernelspec": {
   "display_name": "Python 3",
   "language": "python",
   "name": "python3"
  },
  "language_info": {
   "codemirror_mode": {
    "name": "ipython",
    "version": 3
   },
   "file_extension": ".py",
   "mimetype": "text/x-python",
   "name": "python",
   "nbconvert_exporter": "python",
   "pygments_lexer": "ipython3",
   "version": "3.7.0"
  },
  "orig_nbformat": 4
 },
 "nbformat": 4,
 "nbformat_minor": 2
}
